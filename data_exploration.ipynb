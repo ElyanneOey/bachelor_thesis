{
 "cells": [
  {
   "cell_type": "code",
   "execution_count": 1,
   "metadata": {},
   "outputs": [
    {
     "name": "stdout",
     "output_type": "stream",
     "text": [
      "TensorFlow version: 2.7.0\n"
     ]
    }
   ],
   "source": [
    "import tensorflow as tf\n",
    "import numpy as np\n",
    "import matplotlib.pyplot as plt\n",
    "print(\"TensorFlow version:\", tf.__version__)\n",
    "import larq as lq\n",
    "import keras"
   ]
  },
  {
   "cell_type": "code",
   "execution_count": 2,
   "metadata": {},
   "outputs": [
    {
     "name": "stdout",
     "output_type": "stream",
     "text": [
      "(60000, 28, 28)\n",
      "(12665, 28, 28)\n"
     ]
    }
   ],
   "source": [
    "mnist = tf.keras.datasets.mnist # Dataset consistent of 28x28 images of the handwritten numbers 0 to 9\n",
    "\n",
    "\n",
    "(x_train, y_train), (x_test, y_test) = mnist.load_data() \n",
    "\n",
    "print(x_train.shape) \n",
    "#print(x_train)\n",
    "train_0_1 = np.where((y_train == 0 ) | (y_train == 1))\n",
    "#print(train_0_1)\n",
    "test_0_1 = np.where((y_test == 0) | (y_test == 1))\n",
    "x_train, y_train = x_train[train_0_1], y_train[train_0_1]\n",
    "x_test, y_test = x_test[test_0_1], y_test[test_0_1]\n",
    "\n",
    "print(x_train.shape)\n",
    "\n"
   ]
  },
  {
   "cell_type": "code",
   "execution_count": 18,
   "metadata": {},
   "outputs": [
    {
     "name": "stdout",
     "output_type": "stream",
     "text": [
      "(60000, 28, 28)\n",
      "(10000, 28, 28)\n"
     ]
    }
   ],
   "source": [
    "mnist = tf.keras.datasets.mnist # Dataset consistent of 28x28 images of the handwritten numbers 0 to 9\n",
    "\n",
    "\n",
    "(x_train, y_train), (x_test, y_test) = mnist.load_data() \n",
    "print(x_train.shape)\n",
    "print(x_test.shape)"
   ]
  },
  {
   "cell_type": "code",
   "execution_count": 19,
   "metadata": {},
   "outputs": [],
   "source": [
    "x_train = np.expand_dims(x_train, axis=-1)\n",
    "x_train = tf.image.resize(x_train, [2,2]) \n",
    "x_test = np.expand_dims(x_test, axis=-1)\n",
    "x_test = tf.image.resize(x_test, [2,2]) \n",
    "\n",
    "x_train = x_train[:, :, :, 0]\n",
    "x_test = x_test[:, :, :, 0]\n",
    "\n",
    "x_train = x_train.numpy()\n",
    "x_test = x_test.numpy()\n",
    "\n",
    "x_train, x_test = x_train.reshape(60000, 4).astype(\"float32\") / 127.5 - 1, x_test.reshape(10000, 4).astype(\"float32\") / 127.5 - 1"
   ]
  },
  {
   "cell_type": "code",
   "execution_count": 20,
   "metadata": {},
   "outputs": [
    {
     "name": "stdout",
     "output_type": "stream",
     "text": [
      "(5923, 4)\n",
      "(6742, 4)\n",
      "(5958, 4)\n",
      "(6131, 4)\n",
      "(5842, 4)\n",
      "(5421, 4)\n",
      "(5918, 4)\n",
      "(6265, 4)\n",
      "(5851, 4)\n",
      "(5949, 4)\n"
     ]
    }
   ],
   "source": [
    "x_train0 = x_train[np.where((y_train == 0 ))]\n",
    "x_train1 = x_train[np.where((y_train == 1 ))]\n",
    "x_train2 = x_train[np.where((y_train == 2 ))]\n",
    "x_train3 = x_train[np.where((y_train == 3 ))]\n",
    "x_train4 = x_train[np.where((y_train == 4 ))]\n",
    "x_train5 = x_train[np.where((y_train == 5 ))]\n",
    "x_train6 = x_train[np.where((y_train == 6 ))]\n",
    "x_train7 = x_train[np.where((y_train == 7 ))]\n",
    "x_train8 = x_train[np.where((y_train == 8 ))]\n",
    "x_train9 = x_train[np.where((y_train == 9 ))]\n",
    "\n",
    "x_test0 = x_test[np.where((y_test == 0 ))]\n",
    "x_test1 = x_test[np.where((y_test == 1 ))]\n",
    "x_test2 = x_test[np.where((y_test == 2 ))]\n",
    "x_test3 = x_test[np.where((y_test == 3 ))]\n",
    "x_test4 = x_test[np.where((y_test == 4 ))]\n",
    "x_test5 = x_test[np.where((y_test == 5 ))]\n",
    "x_test6 = x_test[np.where((y_test == 6 ))]\n",
    "x_test7 = x_test[np.where((y_test == 7 ))]\n",
    "x_test8 = x_test[np.where((y_test == 8 ))]\n",
    "x_test9 = x_test[np.where((y_test == 9 ))]\n",
    "\n",
    "print(x_train0.shape)\n",
    "print(x_train1.shape)\n",
    "print(x_train2.shape)\n",
    "print(x_train3.shape)\n",
    "print(x_train4.shape)\n",
    "print(x_train5.shape)\n",
    "print(x_train6.shape)\n",
    "print(x_train7.shape)\n",
    "print(x_train8.shape)\n",
    "print(x_train9.shape)"
   ]
  },
  {
   "cell_type": "code",
   "execution_count": 5,
   "metadata": {},
   "outputs": [
    {
     "name": "stdout",
     "output_type": "stream",
     "text": [
      "[[  5.2451463  99.1571   ]\n",
      " [123.70615    45.055927 ]]\n"
     ]
    }
   ],
   "source": [
    "train0 = np.sum(x_train0, axis=0) / 5923\n",
    "train1 = np.sum(x_train1, axis=0) / 67420\n",
    "train2 = np.sum(x_train2, axis=0) / 5958\n",
    "train3 = np.sum(x_train3, axis=0) / 6131\n",
    "train4 = np.sum(x_train4, axis=0) / 5842\n",
    "train5 = np.sum(x_train5, axis=0) / 5421\n",
    "train6 = np.sum(x_train6, axis=0) / 5918\n",
    "train7 = np.sum(x_train7, axis=0) / 6265\n",
    "train8 = np.sum(x_train8, axis=0) / 5851\n",
    "train9 = np.sum(x_train9, axis=0) / 5949\n",
    "\n",
    "print(train0)"
   ]
  },
  {
   "cell_type": "code",
   "execution_count": 6,
   "metadata": {},
   "outputs": [
    {
     "data": {
      "image/png": "[encoded data removed]",
      "text/plain": [
       "<Figure size 432x288 with 1 Axes>"
      ]
     },
     "metadata": {
      "needs_background": "light"
     },
     "output_type": "display_data"
    }
   ],
   "source": [
    "#train0 = train0 * 127.5 + 1\n",
    "fig = plt.figure\n",
    "plt.imshow(train0, cmap='gray')\n",
    "plt.show()"
   ]
  },
  {
   "cell_type": "code",
   "execution_count": 7,
   "metadata": {},
   "outputs": [
    {
     "data": {
      "image/png": "[encoded data removed]",
      "text/plain": [
       "<Figure size 432x288 with 1 Axes>"
      ]
     },
     "metadata": {
      "needs_background": "light"
     },
     "output_type": "display_data"
    }
   ],
   "source": [
    "fig = plt.figure\n",
    "plt.imshow(train1, cmap='gray')\n",
    "plt.show()"
   ]
  },
  {
   "cell_type": "code",
   "execution_count": 11,
   "metadata": {},
   "outputs": [
    {
     "name": "stdout",
     "output_type": "stream",
     "text": [
      "(2, 2)\n"
     ]
    }
   ],
   "source": [
    "print(train7.shape)"
   ]
  },
  {
   "cell_type": "code",
   "execution_count": 21,
   "metadata": {},
   "outputs": [
    {
     "name": "stdout",
     "output_type": "stream",
     "text": [
      "[-1.8196079  -0.4901961  -2.8882353  ... -0.08431375 -0.14117646\n",
      " -0.18039215]\n"
     ]
    }
   ],
   "source": [
    "train0 = np.sum(x_train0, axis=1) #/ 4\n",
    "train1 = np.sum(x_train1, axis=1) #/ 4\n",
    "train2 = np.sum(x_train2, axis=1) / 4\n",
    "train3 = np.sum(x_train3, axis=1) / 4\n",
    "train4 = np.sum(x_train4, axis=1) / 4\n",
    "train5 = np.sum(x_train5, axis=1) / 4\n",
    "train6 = np.sum(x_train6, axis=1) / 4\n",
    "train7 = np.sum(x_train7, axis=1) / 4\n",
    "train8 = np.sum(x_train8, axis=1) / 4\n",
    "train9 = np.sum(x_train9, axis=1) / 4\n",
    "\n",
    "\n",
    "test0 = np.sum(x_test0, axis=1) / 4\n",
    "test1 = np.sum(x_test1, axis=1) / 4\n",
    "\n",
    "print(train0)"
   ]
  },
  {
   "cell_type": "code",
   "execution_count": 22,
   "metadata": {},
   "outputs": [
    {
     "data": {
      "image/png": "[encoded data removed]",
      "text/plain": [
       "<Figure size 432x288 with 1 Axes>"
      ]
     },
     "metadata": {
      "needs_background": "light"
     },
     "output_type": "display_data"
    }
   ],
   "source": [
    "plt.hist(train0, bins=50)\n",
    "#plt.hist(train1, bins=100)\n",
    "plt.show()"
   ]
  },
  {
   "cell_type": "code",
   "execution_count": 23,
   "metadata": {},
   "outputs": [
    {
     "data": {
      "image/png": "[encoded data removed]",
      "text/plain": [
       "<Figure size 432x288 with 1 Axes>"
      ]
     },
     "metadata": {
      "needs_background": "light"
     },
     "output_type": "display_data"
    }
   ],
   "source": [
    "plt.hist(train1, bins=50)\n",
    "#plt.hist(train1, bins=100)\n",
    "plt.show()"
   ]
  },
  {
   "cell_type": "code",
   "execution_count": 14,
   "metadata": {},
   "outputs": [
    {
     "data": {
      "image/png": "[encoded data removed]",
      "text/plain": [
       "<Figure size 432x288 with 1 Axes>"
      ]
     },
     "metadata": {
      "needs_background": "light"
     },
     "output_type": "display_data"
    }
   ],
   "source": [
    "plt.hist(train2, bins=50)\n",
    "#plt.hist(train1, bins=100)\n",
    "plt.show()"
   ]
  },
  {
   "cell_type": "code",
   "execution_count": 15,
   "metadata": {},
   "outputs": [
    {
     "data": {
      "image/png": "[encoded data removed]",
      "text/plain": [
       "<Figure size 432x288 with 1 Axes>"
      ]
     },
     "metadata": {
      "needs_background": "light"
     },
     "output_type": "display_data"
    }
   ],
   "source": [
    "plt.hist(train3, bins=50)\n",
    "#plt.hist(train1, bins=100)\n",
    "plt.show()"
   ]
  },
  {
   "cell_type": "code",
   "execution_count": 16,
   "metadata": {},
   "outputs": [
    {
     "data": {
      "image/png": "[encoded data removed]",
      "text/plain": [
       "<Figure size 432x288 with 1 Axes>"
      ]
     },
     "metadata": {
      "needs_background": "light"
     },
     "output_type": "display_data"
    }
   ],
   "source": [
    "plt.hist(train4, bins=50)\n",
    "#plt.hist(train1, bins=100)\n",
    "plt.show()"
   ]
  },
  {
   "cell_type": "code",
   "execution_count": 17,
   "metadata": {},
   "outputs": [
    {
     "data": {
      "image/png": "[encoded data removed]",
      "text/plain": [
       "<Figure size 432x288 with 1 Axes>"
      ]
     },
     "metadata": {
      "needs_background": "light"
     },
     "output_type": "display_data"
    }
   ],
   "source": [
    "plt.hist(train5, bins=50)\n",
    "#plt.hist(train1, bins=100)\n",
    "plt.show()"
   ]
  },
  {
   "cell_type": "code",
   "execution_count": 18,
   "metadata": {},
   "outputs": [
    {
     "data": {
      "image/png": "[encoded data removed]",
      "text/plain": [
       "<Figure size 432x288 with 1 Axes>"
      ]
     },
     "metadata": {
      "needs_background": "light"
     },
     "output_type": "display_data"
    }
   ],
   "source": [
    "plt.hist(train6, bins=50)\n",
    "#plt.hist(train1, bins=100)\n",
    "plt.show()"
   ]
  },
  {
   "cell_type": "code",
   "execution_count": 19,
   "metadata": {},
   "outputs": [
    {
     "data": {
      "image/png": "[encoded data removed]",
      "text/plain": [
       "<Figure size 432x288 with 1 Axes>"
      ]
     },
     "metadata": {
      "needs_background": "light"
     },
     "output_type": "display_data"
    }
   ],
   "source": [
    "plt.hist(train7, bins=50)\n",
    "#plt.hist(train1, bins=100)\n",
    "plt.show()"
   ]
  },
  {
   "cell_type": "code",
   "execution_count": 20,
   "metadata": {},
   "outputs": [
    {
     "data": {
      "image/png": "[encoded data removed]",
      "text/plain": [
       "<Figure size 432x288 with 1 Axes>"
      ]
     },
     "metadata": {
      "needs_background": "light"
     },
     "output_type": "display_data"
    }
   ],
   "source": [
    "plt.hist(train8, bins=50)\n",
    "#plt.hist(train1, bins=100)\n",
    "plt.show()"
   ]
  },
  {
   "cell_type": "code",
   "execution_count": 21,
   "metadata": {},
   "outputs": [
    {
     "data": {
      "image/png": "[encoded data removed]",
      "text/plain": [
       "<Figure size 432x288 with 1 Axes>"
      ]
     },
     "metadata": {
      "needs_background": "light"
     },
     "output_type": "display_data"
    }
   ],
   "source": [
    "plt.hist(train9, bins=50)\n",
    "#plt.hist(train1, bins=100)\n",
    "plt.show()"
   ]
  },
  {
   "cell_type": "code",
   "execution_count": 36,
   "metadata": {},
   "outputs": [
    {
     "name": "stdout",
     "output_type": "stream",
     "text": [
      "(5923,)\n"
     ]
    }
   ],
   "source": [
    "print(train0.shape)"
   ]
  },
  {
   "cell_type": "code",
   "execution_count": 37,
   "metadata": {},
   "outputs": [
    {
     "name": "stdout",
     "output_type": "stream",
     "text": [
      "(6742,)\n"
     ]
    }
   ],
   "source": [
    "print(train1.shape)"
   ]
  },
  {
   "cell_type": "code",
   "execution_count": null,
   "metadata": {},
   "outputs": [],
   "source": []
  }
 ],
 "metadata": {
  "kernelspec": {
   "display_name": "Python 3",
   "language": "python",
   "name": "python3"
  },
  "language_info": {
   "codemirror_mode": {
    "name": "ipython",
    "version": 3
   },
   "file_extension": ".py",
   "mimetype": "text/x-python",
   "name": "python",
   "nbconvert_exporter": "python",
   "pygments_lexer": "ipython3",
   "version": "3.7.4"
  }
 },
 "nbformat": 4,
 "nbformat_minor": 2
}
