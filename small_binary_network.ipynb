{
 "cells": [
  {
   "cell_type": "code",
   "execution_count": 1,
   "metadata": {},
   "outputs": [
    {
     "name": "stdout",
     "output_type": "stream",
     "text": [
      "Requirement already satisfied: larq in c:\\users\\lenovo\\anaconda3\\lib\\site-packages (0.13.0)\n",
      "Requirement already satisfied: packaging>=19.2 in c:\\users\\lenovo\\anaconda3\\lib\\site-packages (from larq) (23.0)\n",
      "Requirement already satisfied: numpy<2.0,>=1.15.4 in c:\\users\\lenovo\\anaconda3\\lib\\site-packages (from larq) (1.16.4)\n",
      "Requirement already satisfied: importlib-metadata<4.0,>=2.0; python_version < \"3.8\" in c:\\users\\lenovo\\anaconda3\\lib\\site-packages (from larq) (3.10.1)\n",
      "Requirement already satisfied: terminaltables>=3.1.0 in c:\\users\\lenovo\\anaconda3\\lib\\site-packages (from larq) (3.1.10)\n",
      "Requirement already satisfied: zipp>=0.5 in c:\\users\\lenovo\\anaconda3\\lib\\site-packages (from importlib-metadata<4.0,>=2.0; python_version < \"3.8\"->larq) (0.5.1)\n",
      "Requirement already satisfied: typing-extensions>=3.6.4; python_version < \"3.8\" in c:\\users\\lenovo\\anaconda3\\lib\\site-packages (from importlib-metadata<4.0,>=2.0; python_version < \"3.8\"->larq) (4.0.1)\n",
      "Requirement already satisfied: keras-tuner in c:\\users\\lenovo\\anaconda3\\lib\\site-packages (1.3.5)\n",
      "Requirement already satisfied: kt-legacy in c:\\users\\lenovo\\anaconda3\\lib\\site-packages (from keras-tuner) (1.0.5)\n",
      "Requirement already satisfied: requests in c:\\users\\lenovo\\anaconda3\\lib\\site-packages (from keras-tuner) (2.22.0)\n",
      "Requirement already satisfied: packaging in c:\\users\\lenovo\\anaconda3\\lib\\site-packages (from keras-tuner) (23.0)\n",
      "Requirement already satisfied: certifi>=2017.4.17 in c:\\users\\lenovo\\anaconda3\\lib\\site-packages (from requests->keras-tuner) (2022.12.7)\n",
      "Requirement already satisfied: chardet<3.1.0,>=3.0.2 in c:\\users\\lenovo\\anaconda3\\lib\\site-packages (from requests->keras-tuner) (3.0.4)\n",
      "Requirement already satisfied: urllib3!=1.25.0,!=1.25.1,<1.26,>=1.21.1 in c:\\users\\lenovo\\anaconda3\\lib\\site-packages (from requests->keras-tuner) (1.24.2)\n",
      "Requirement already satisfied: idna<2.9,>=2.5 in c:\\users\\lenovo\\anaconda3\\lib\\site-packages (from requests->keras-tuner) (2.8)\n"
     ]
    }
   ],
   "source": [
    "!pip install larq\n",
    "!pip install keras-tuner"
   ]
  },
  {
   "cell_type": "code",
   "execution_count": 3,
   "metadata": {},
   "outputs": [
    {
     "name": "stdout",
     "output_type": "stream",
     "text": [
      "TensorFlow version: 2.7.0\n"
     ]
    }
   ],
   "source": [
    "import tensorflow as tf\n",
    "import numpy as np\n",
    "import matplotlib.pyplot as plt\n",
    "print(\"TensorFlow version:\", tf.__version__)\n",
    "import larq as lq\n",
    "import keras\n",
    "from sklearn.model_selection import train_test_split"
   ]
  },
  {
   "cell_type": "markdown",
   "metadata": {},
   "source": [
    "# Toy-dataset"
   ]
  },
  {
   "cell_type": "code",
   "execution_count": 63,
   "metadata": {},
   "outputs": [],
   "source": [
    "num_images_left_under = 50000\n",
    "num_images_right_above = 50000\n",
    "\n",
    "dataset_left_under = np.empty((num_images_left_under, 2, 2), dtype=np.uint8)\n",
    "dataset_right_above = np.empty((num_images_right_above, 2, 2), dtype=np.uint8)\n",
    "\n",
    "for i in range(num_images_left_under):\n",
    "    image = np.zeros((2, 2), dtype=np.uint8)\n",
    "    image[0, 0] = np.random.randint(0, 255) #255 not included\n",
    "    image[0, 1] = np.random.randint(0, 255)\n",
    "    image[1, 1] = np.random.randint(0, 255)\n",
    "    image[1, 0] = 255\n",
    "    dataset_left_under[i] = image\n",
    "    \n",
    "for i in range(num_images_right_above):\n",
    "    image = np.zeros((2, 2), dtype=np.uint8)\n",
    "    image[0, 0] = np.random.randint(0, 255)\n",
    "    image[1, 0] = np.random.randint(0, 255)\n",
    "    image[1, 1] = np.random.randint(0, 255)\n",
    "    image[0, 1] = 255\n",
    "    dataset_right_above[i] = image    \n",
    "\n",
    "y_left_under = np.full(num_images_left_under, 1)\n",
    "y_right_above = np.full(num_images_right_above, 0) \n"
   ]
  },
  {
   "cell_type": "code",
   "execution_count": 64,
   "metadata": {},
   "outputs": [
    {
     "data": {
      "image/png": "[encoded data removed]",
      "text/plain": [
       "<Figure size 432x288 with 1 Axes>"
      ]
     },
     "metadata": {
      "needs_background": "light"
     },
     "output_type": "display_data"
    }
   ],
   "source": [
    "fig = plt.figure\n",
    "plt.imshow(dataset_left_under[10], cmap='gray')\n",
    "plt.show()"
   ]
  },
  {
   "cell_type": "code",
   "execution_count": 65,
   "metadata": {},
   "outputs": [],
   "source": [
    "x_dataset = np.concatenate((dataset_left_under, dataset_right_above))\n",
    "y_dataset = np.concatenate((y_left_under, y_right_above))\n",
    "\n",
    "x_train, x_test, y_train, y_test = train_test_split(\n",
    "    x_dataset, y_dataset, test_size=0.2, random_state=42)"
   ]
  },
  {
   "cell_type": "code",
   "execution_count": 66,
   "metadata": {},
   "outputs": [],
   "source": [
    "x_train, x_test = x_train.reshape(80000, 4).astype(\"float32\") / 127.5 - 1, x_test.reshape(20000, 4).astype(\"float32\") / 127.5 - 1"
   ]
  },
  {
   "cell_type": "code",
   "execution_count": 67,
   "metadata": {},
   "outputs": [],
   "source": [
    "y_test = tf.keras.utils.to_categorical(y_test, 2)\n",
    "y_train = tf.keras.utils.to_categorical(y_train, 2)"
   ]
  },
  {
   "cell_type": "markdown",
   "metadata": {},
   "source": [
    "# MNIST dataset resize to 2x2"
   ]
  },
  {
   "cell_type": "code",
   "execution_count": 83,
   "metadata": {},
   "outputs": [
    {
     "name": "stdout",
     "output_type": "stream",
     "text": [
      "(60000, 28, 28)\n",
      "12665\n",
      "2115\n"
     ]
    }
   ],
   "source": [
    "mnist = tf.keras.datasets.mnist # Dataset consistent of 28x28 images of the handwritten numbers 0 to 9\n",
    "\n",
    "\n",
    "(x_train, y_train), (x_test, y_test) = mnist.load_data() \n",
    "\n",
    "print(x_train.shape) \n",
    "#print(x_train)\n",
    "train_0_1 = np.where((y_train == 0 ) | (y_train == 1))\n",
    "test_0_1 = np.where((y_test == 0) | (y_test == 1))\n",
    "x_train, y_train = x_train[train_0_1], y_train[train_0_1]\n",
    "x_test, y_test = x_test[test_0_1], y_test[test_0_1]\n",
    "print(len(x_train))\n",
    "print(len(x_test))"
   ]
  },
  {
   "cell_type": "code",
   "execution_count": 84,
   "metadata": {},
   "outputs": [],
   "source": [
    "#resize\n",
    "x_train = np.expand_dims(x_train, axis=-1) #extra dimension for resizing\n",
    "x_train = tf.image.resize(x_train, [2,2]) \n",
    "x_test = np.expand_dims(x_test, axis=-1)\n",
    "x_test = tf.image.resize(x_test, [2,2]) "
   ]
  },
  {
   "cell_type": "code",
   "execution_count": 85,
   "metadata": {},
   "outputs": [],
   "source": [
    "#remove extra dimension\n",
    "x_train = x_train[:, :, :, 0] \n",
    "x_test = x_test[:, :, :, 0]"
   ]
  },
  {
   "cell_type": "code",
   "execution_count": 86,
   "metadata": {},
   "outputs": [],
   "source": [
    "#from tensorflow to numpy array\n",
    "x_train = x_train.numpy()\n",
    "x_test = x_test.numpy()"
   ]
  },
  {
   "cell_type": "code",
   "execution_count": 87,
   "metadata": {},
   "outputs": [
    {
     "data": {
      "image/png": "[encoded data removed]",
      "text/plain": [
       "<Figure size 432x288 with 1 Axes>"
      ]
     },
     "metadata": {
      "needs_background": "light"
     },
     "output_type": "display_data"
    }
   ],
   "source": [
    "fig = plt.figure\n",
    "plt.imshow(x_train[10], cmap='gray')\n",
    "plt.show()"
   ]
  },
  {
   "cell_type": "code",
   "execution_count": 88,
   "metadata": {},
   "outputs": [],
   "source": [
    "x_train, x_test = x_train.reshape(12665, 4).astype(\"float32\") / 127.5 - 1, x_test.reshape(2115, 4).astype(\"float32\") / 127.5 - 1"
   ]
  },
  {
   "cell_type": "code",
   "execution_count": 89,
   "metadata": {},
   "outputs": [],
   "source": [
    "y_test = tf.keras.utils.to_categorical(y_test, 2)\n",
    "y_train = tf.keras.utils.to_categorical(y_train, 2)"
   ]
  },
  {
   "cell_type": "markdown",
   "metadata": {},
   "source": [
    "# binary neural network"
   ]
  },
  {
   "cell_type": "code",
   "execution_count": 8,
   "metadata": {},
   "outputs": [],
   "source": [
    "# !! don't use this one\n",
    "\n",
    "kwargs = dict(input_quantizer=\"ste_sign\",\n",
    "              kernel_quantizer=\"ste_sign\",\n",
    "              kernel_constraint=\"weight_clip\")\n",
    "\n",
    "model = tf.keras.models.Sequential()\n",
    "\n",
    "# In the first layer we only quantize the weights and not the input\n",
    "model.add(tf.keras.layers.Flatten(input_shape=(2, 2)))\n",
    "\n",
    "\n",
    "\n",
    "model.add(lq.layers.QuantDense(2,\n",
    "                                activation='relu',\n",
    "                                kernel_quantizer=\"ste_sign\",\n",
    "                                kernel_constraint=\"weight_clip\",\n",
    "                                use_bias=False,\n",
    "                                input_shape=(2, 2)))\n",
    "#model.add(tf.keras.layers.MaxPooling2D((2, 2)))\n",
    "#model.add(tf.keras.layers.BatchNormalization(scale=False))\n",
    "\n",
    "model.add(lq.layers.QuantDense(2, activation='softmax', use_bias=False, **kwargs))\n"
   ]
  },
  {
   "cell_type": "code",
   "execution_count": 90,
   "metadata": {},
   "outputs": [],
   "source": [
    "# !! use this one\n",
    "def create_model():\n",
    "    kwargs = dict(input_quantizer=\"ste_sign\",\n",
    "                  kernel_quantizer=\"ste_sign\",\n",
    "                  kernel_constraint=\"weight_clip\")\n",
    "\n",
    "    model = tf.keras.models.Sequential()\n",
    "\n",
    "    # In the first layer we only quantize the weights and not the input\n",
    "    #model.add(tf.keras.layers.Flatten(input_shape=(2, 2)))\n",
    "\n",
    "\n",
    "    model.add(lq.layers.QuantDense(6,\n",
    "                                    kernel_quantizer=\"ste_sign\",\n",
    "                                    kernel_constraint=\"weight_clip\",\n",
    "                                    use_bias=False))\n",
    "\n",
    "    model.add(lq.layers.QuantDense(2,\n",
    "                                    input_quantizer=\"ste_sign\",\n",
    "                                    kernel_quantizer=\"ste_sign\",\n",
    "                                    kernel_constraint=\"weight_clip\",\n",
    "                                    use_bias=False))\n",
    "    #model.add(tf.keras.layers.MaxPooling2D((2, 2)))\n",
    "    #model.add(tf.keras.layers.BatchNormalization(scale=False))\n",
    "\n",
    "    #model.add(lq.layers.QuantDense(2, activation='softmax', use_bias=False, **kwargs))\n",
    "    model.add(tf.keras.layers.Activation(\"softmax\"))\n",
    "    \n",
    "    model.compile(optimizer=tf.keras.optimizers.Adam(learning_rate=0.0001), loss='categorical_crossentropy',\n",
    "             metrics=['accuracy'])\n",
    "    \n",
    "    return model"
   ]
  },
  {
   "cell_type": "code",
   "execution_count": 91,
   "metadata": {},
   "outputs": [
    {
     "name": "stdout",
     "output_type": "stream",
     "text": [
      "67/67 [==============================] - 2s 6ms/step - loss: 0.4541 - accuracy: 0.8364\n",
      "67/67 [==============================] - 1s 1ms/step - loss: 0.9693 - accuracy: 0.4506\n",
      "67/67 [==============================] - 1s 1ms/step - loss: 0.6716 - accuracy: 0.7277\n",
      "67/67 [==============================] - 0s 756us/step - loss: 0.7113 - accuracy: 0.7078\n",
      "67/67 [==============================] - 1s 750us/step - loss: 0.9368 - accuracy: 0.3920\n",
      "67/67 [==============================] - 0s 848us/step - loss: 0.6735 - accuracy: 0.7267\n",
      "67/67 [==============================] - 0s 747us/step - loss: 0.5742 - accuracy: 0.4615\n",
      "67/67 [==============================] - 0s 771us/step - loss: 0.6296 - accuracy: 0.8619\n",
      "67/67 [==============================] - 0s 798us/step - loss: 0.6735 - accuracy: 0.7267\n",
      "67/67 [==============================] - 0s 741us/step - loss: 0.6837 - accuracy: 0.4449\n"
     ]
    }
   ],
   "source": [
    "#model.compile(optimizer=tf.keras.optimizers.Adam(learning_rate=0.0001), loss='categorical_crossentropy',\n",
    "#             metrics=['accuracy'])\n",
    "\n",
    "accu = []\n",
    "\n",
    "for i in range(10):\n",
    "    model = create_model()\n",
    "    # When the next line is executed, the training of the model is done.\n",
    "    # Epochs stands for the number of cycles the ANN trains for, with the entire training dataset. \n",
    "    #history = model.fit(x_train, y_train, validation_data=(x_test, y_test), epochs=10, batch_size=100)\n",
    "    model.fit(x_train, y_train, epochs=50, batch_size=75, verbose=0)\n",
    "    test_loss, test_acc = model.evaluate(x_test, y_test)\n",
    "    accu.append(test_acc)"
   ]
  },
  {
   "cell_type": "code",
   "execution_count": 62,
   "metadata": {},
   "outputs": [
    {
     "name": "stdout",
     "output_type": "stream",
     "text": [
      "625/625 [==============================] - 1s 796us/step - loss: 0.4927 - accuracy: 0.8331\n"
     ]
    }
   ],
   "source": [
    "test_loss, test_acc = model.evaluate(x_test, y_test)"
   ]
  },
  {
   "cell_type": "code",
   "execution_count": 354,
   "metadata": {},
   "outputs": [
    {
     "name": "stdout",
     "output_type": "stream",
     "text": [
      "[array([[ 1.00000000e+00,  7.96708763e-01,  2.17636526e-01,\n",
      "        -1.82388812e-01,  8.26059058e-02,  8.94632578e-01],\n",
      "       [ 1.33934757e-03, -7.07818493e-02,  2.19957098e-01,\n",
      "         3.27603018e-04, -6.58553600e-01, -2.28876635e-01],\n",
      "       [-3.02159823e-02, -3.54662712e-04, -4.03533041e-01,\n",
      "         6.17746592e-01, -7.28839457e-01,  9.22197938e-01],\n",
      "       [ 6.05950714e-04, -1.08276166e-01,  9.81539270e-05,\n",
      "         8.09327245e-01,  2.79122778e-05, -2.84339249e-01]], dtype=float32), array([[-1.3782805e-02, -3.7056890e-03],\n",
      "       [-7.5385942e-05,  9.7954434e-01],\n",
      "       [-7.7918380e-01,  1.7418148e-04],\n",
      "       [ 1.0257229e-04, -3.5972688e-01],\n",
      "       [-5.5621982e-05,  2.9301235e-01],\n",
      "       [-4.7416243e-01, -5.2719682e-01]], dtype=float32)]\n",
      "[array([[ 1.,  1.,  1., -1.,  1.,  1.],\n",
      "       [ 1., -1.,  1.,  1., -1., -1.],\n",
      "       [-1., -1., -1.,  1., -1.,  1.],\n",
      "       [ 1., -1.,  1.,  1.,  1., -1.]], dtype=float32), array([[-1., -1.],\n",
      "       [-1.,  1.],\n",
      "       [-1.,  1.],\n",
      "       [ 1., -1.],\n",
      "       [-1.,  1.],\n",
      "       [-1., -1.]], dtype=float32)]\n"
     ]
    }
   ],
   "source": [
    "model.save(\"full_precision_model.h5\")  # save full precision latent weights\n",
    "fp_weights = model.get_weights()  # get latent weights\n",
    "print(fp_weights)\n",
    "with lq.context.quantized_scope(True):\n",
    "    model.save(\"binary_model.h5\")  # save binary weights\n",
    "    weights = model.get_weights()  # get binary weights\n",
    "    print(weights)"
   ]
  },
  {
   "cell_type": "code",
   "execution_count": 92,
   "metadata": {},
   "outputs": [
    {
     "name": "stdout",
     "output_type": "stream",
     "text": [
      "Mean: 0.6336170256137847\n",
      "Standard Deviation: 0.1679508866279757\n"
     ]
    }
   ],
   "source": [
    "data = [0.7277, 0.7277, 0.8217]  # Replace with your data\n",
    "\n",
    "mean = np.mean(accu)\n",
    "std = np.std(accu)\n",
    "\n",
    "print(\"Mean:\", mean)\n",
    "print(\"Standard Deviation:\", std)"
   ]
  },
  {
   "cell_type": "code",
   "execution_count": null,
   "metadata": {},
   "outputs": [],
   "source": []
  }
 ],
 "metadata": {
  "kernelspec": {
   "display_name": "Python 3",
   "language": "python",
   "name": "python3"
  },
  "language_info": {
   "codemirror_mode": {
    "name": "ipython",
    "version": 3
   },
   "file_extension": ".py",
   "mimetype": "text/x-python",
   "name": "python",
   "nbconvert_exporter": "python",
   "pygments_lexer": "ipython3",
   "version": "3.7.4"
  }
 },
 "nbformat": 4,
 "nbformat_minor": 2
}
